{
 "cells": [
  {
   "cell_type": "markdown",
   "metadata": {},
   "source": [
    "# 1 min data"
   ]
  },
  {
   "cell_type": "code",
   "execution_count": null,
   "metadata": {},
   "outputs": [],
   "source": [
    "import pandas as pd\n",
    "import os\n",
    "\n",
    "root_dir = './data/one_min_data/'\n",
    "\n",
    "def read_stock_data(stock_ticker):\n",
    "    stock_dir = os.path.join(root_dir, stock_ticker)\n",
    "    # print('stock dir ', stock_dir)\n",
    "    stock_files = os.listdir(stock_dir)\n",
    "    # print('stock_files ',stock_files)\n",
    "    df = pd.DataFrame()\n",
    "    for stock_file in stock_files:\n",
    "        stock_full_path = os.path.join(stock_dir, stock_file)\n",
    "        # print('stock_full_path ', stock_full_path)\n",
    "        df_csv = pd.read_csv(stock_full_path, index_col=0)\n",
    "        # print('df_csv shape ', df_csv.shape)\n",
    "        df = pd.concat([df, df_csv])\n",
    "\n",
    "    df['stock_id'] = stock_ticker\n",
    "    df = df.sort_values(by=\"timestamp\", ascending=True)\n",
    "    df = df.reset_index(drop=True)\n",
    "    # df = df.drop(columns=[\"index\"])\n",
    "    return df\n"
   ]
  },
  {
   "cell_type": "code",
   "execution_count": null,
   "metadata": {},
   "outputs": [],
   "source": [
    "df_stock = read_stock_data('AAPL')\n",
    "df_stock"
   ]
  },
  {
   "cell_type": "code",
   "execution_count": null,
   "metadata": {},
   "outputs": [],
   "source": [
    "import matplotlib.pyplot as plt\n",
    "# df_stock_mini = df_stock[0:1000]\n",
    "# plt.plot(df_stock_mini['timestamp'], df_stock_mini['close'])\n",
    "plt.plot(df_stock['close'])\n",
    "plt.title('Price data')\n",
    "plt.ylabel('price')\n",
    "plt.xlabel('time')\n",
    "plt.show();"
   ]
  },
  {
   "cell_type": "code",
   "execution_count": null,
   "metadata": {},
   "outputs": [],
   "source": [
    "df = pd.read_csv('./data/one_min_data/AAPL/2008-03.csv', index_col=0)\n",
    "df"
   ]
  },
  {
   "cell_type": "code",
   "execution_count": null,
   "metadata": {},
   "outputs": [],
   "source": [
    "stock_ticker = 'AAPL'"
   ]
  }
 ],
 "metadata": {
  "kernelspec": {
   "display_name": "base",
   "language": "python",
   "name": "python3"
  },
  "language_info": {
   "codemirror_mode": {
    "name": "ipython",
    "version": 3
   },
   "file_extension": ".py",
   "mimetype": "text/x-python",
   "name": "python",
   "nbconvert_exporter": "python",
   "pygments_lexer": "ipython3",
   "version": "3.10.8"
  },
  "orig_nbformat": 4
 },
 "nbformat": 4,
 "nbformat_minor": 2
}
