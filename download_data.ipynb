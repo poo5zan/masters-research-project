{
 "cells": [
  {
   "cell_type": "code",
   "execution_count": null,
   "metadata": {},
   "outputs": [],
   "source": [
    "# download data"
   ]
  },
  {
   "cell_type": "code",
   "execution_count": null,
   "metadata": {},
   "outputs": [],
   "source": [
    "dow_30_tickers = ['AXP',\n",
    " 'AMGN',\n",
    " 'AAPL',\n",
    " 'BA',\n",
    " 'CAT',\n",
    " 'CSCO',\n",
    " 'CVX',\n",
    " 'GS',\n",
    " 'HD',\n",
    " 'HON',\n",
    " 'IBM',\n",
    " 'INTC',\n",
    " 'JNJ',\n",
    " 'KO',\n",
    " 'JPM',\n",
    " 'MCD',\n",
    " 'MMM',\n",
    " 'MRK',\n",
    " 'MSFT',\n",
    " 'NKE',\n",
    " 'PG',\n",
    " 'TRV',\n",
    " 'UNH',\n",
    " 'CRM',\n",
    " 'VZ',\n",
    " 'V',\n",
    " 'WBA',\n",
    " 'WMT',\n",
    " 'DIS',\n",
    " 'DOW']"
   ]
  },
  {
   "cell_type": "code",
   "execution_count": null,
   "metadata": {},
   "outputs": [],
   "source": [
    "import os\n",
    "def create_directory_if_not_exists(outdirs):\n",
    "    # fullname = os.path.join(outdir, outname) \n",
    "    full_path = \"./\"\n",
    "    for outdir in outdirs:\n",
    "        full_path = os.path.join(full_path, outdir)\n",
    "        if not os.path.exists(full_path):\n",
    "            os.mkdir(full_path)\n",
    "\n",
    "# create_directory_if_not_exists([\"data\",\"one_min_data\",\"IBM\"])\n",
    "\n",
    "import datetime\n",
    "from dateutil.relativedelta import relativedelta\n",
    "import pandas as pd\n",
    "    \n",
    "def get_year_month(date_obj):\n",
    "    return str(date_obj.year) + \"-\" + str(date_obj.month).zfill(2) \n",
    "\n",
    "import time\n",
    "\n",
    "def wait_for_seconds(wait_second):\n",
    "    print(f\"Waiting {wait_second} seconds to avoid API rate limit of 5 requests per 1 minute \")\n",
    "    time.sleep(wait_second)  \n"
   ]
  },
  {
   "cell_type": "code",
   "execution_count": null,
   "metadata": {},
   "outputs": [],
   "source": [
    "\n",
    "def download_file_for_stock(stock_ticker, date_str, overwrite, api_key, interval):\n",
    "    create_directory_if_not_exists([\"data\",\"one_min_data\", stock_ticker])\n",
    "    output_file = f'./data/one_min_data/{stock_ticker}/{str(date_str)}.csv'\n",
    "    if not overwrite and os.path.exists(output_file):\n",
    "        print(f'overwrite is {overwrite} output_file exists so skip {output_file}')\n",
    "        return\n",
    "    \n",
    "    url = f'https://www.alphavantage.co/query?function=TIME_SERIES_INTRADAY&symbol={stock_ticker}&interval={interval}&outputsize=full&apikey={api_key}&datatype=csv&month={date_str}'\n",
    "    print('downloading from url ', url)\n",
    "    df = pd.read_csv(url)\n",
    "    df.to_csv(output_file)\n",
    "    wait_for_seconds(15)\n"
   ]
  },
  {
   "cell_type": "code",
   "execution_count": null,
   "metadata": {},
   "outputs": [],
   "source": [
    "import datetime\n",
    "from dateutil.relativedelta import relativedelta\n",
    "import pandas as pd\n",
    "today = datetime.date.today()\n",
    "this_month = datetime.date(today.year, today.month,1)\n",
    "end_date = datetime.date.today()\n",
    "start_date = datetime.date(2000,1,1)\n",
    "api_key = ''\n",
    "interval = \"1min\"\n",
    "# downloaded stock tickers\n",
    "# 'AAPL','MSFT','AMGN'\n",
    "#'DOW' does no have data beyond 2019\n",
    "stocks = ['CAT']\n",
    "while end_date > start_date:\n",
    "    end_date_year_month = get_year_month(end_date)\n",
    "    overwrite = False\n",
    "    if end_date == this_month:\n",
    "        overwrite = True\n",
    "    print('overwrite ', overwrite)\n",
    "    for stock in stocks:\n",
    "        print('stock ', stock, ', date ', end_date_year_month)\n",
    "        download_file_for_stock(stock, end_date_year_month, overwrite, api_key, interval)\n",
    "    end_date = end_date - relativedelta(months=1)\n",
    "    print('new end_date ', end_date)"
   ]
  },
  {
   "cell_type": "code",
   "execution_count": null,
   "metadata": {},
   "outputs": [],
   "source": [
    "# "
   ]
  }
 ],
 "metadata": {
  "kernelspec": {
   "display_name": "base",
   "language": "python",
   "name": "python3"
  },
  "language_info": {
   "codemirror_mode": {
    "name": "ipython",
    "version": 3
   },
   "file_extension": ".py",
   "mimetype": "text/x-python",
   "name": "python",
   "nbconvert_exporter": "python",
   "pygments_lexer": "ipython3",
   "version": "3.10.8"
  },
  "orig_nbformat": 4
 },
 "nbformat": 4,
 "nbformat_minor": 2
}
