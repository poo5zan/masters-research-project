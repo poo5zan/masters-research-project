{
  "cells": [
    {
      "cell_type": "markdown",
      "metadata": {
        "colab_type": "text",
        "id": "view-in-github"
      },
      "source": [
        "<a href=\"https://colab.research.google.com/github/poo5zan/realized-volatility/blob/main/Realized_Volatility_Pujan.ipynb\" target=\"_parent\"><img src=\"https://colab.research.google.com/assets/colab-badge.svg\" alt=\"Open In Colab\"/></a>"
      ]
    },
    {
      "cell_type": "code",
      "execution_count": null,
      "metadata": {
        "id": "VRZmgDkFRvwg"
      },
      "outputs": [],
      "source": [
        "# code are adapted from the book, Machine Learning for Financial Risk Management"
      ]
    },
    {
      "cell_type": "code",
      "execution_count": null,
      "metadata": {},
      "outputs": [],
      "source": [
        "import pandas as pd\n",
        "\n",
        "df = pd.read_csv('/Users/pujanmaharjan/uni adelaide/uofa_research_project/data-cache/df_train_time_ordered.csv')"
      ]
    },
    {
      "cell_type": "code",
      "execution_count": null,
      "metadata": {},
      "outputs": [],
      "source": [
        "df"
      ]
    },
    {
      "cell_type": "code",
      "execution_count": null,
      "metadata": {},
      "outputs": [],
      "source": [
        "df['stock_id'].unique()"
      ]
    },
    {
      "cell_type": "code",
      "execution_count": null,
      "metadata": {},
      "outputs": [],
      "source": [
        "df_stock = df[df['stock_id'] == 0]\n",
        "df_stock"
      ]
    },
    {
      "cell_type": "code",
      "execution_count": null,
      "metadata": {},
      "outputs": [],
      "source": [
        "\n",
        "df_targets = df_stock['target']\n",
        "df_targets"
      ]
    },
    {
      "cell_type": "code",
      "execution_count": null,
      "metadata": {},
      "outputs": [],
      "source": [
        "import matplotlib.pyplot as plt\n",
        "\n",
        "plt.plot(df_targets)"
      ]
    },
    {
      "cell_type": "code",
      "execution_count": null,
      "metadata": {},
      "outputs": [],
      "source": [
        "import yfinance as yf\n",
        "import numpy as np\n",
        "import pandas as pd\n",
        "import datetime\n",
        "import statsmodels.api as sm\n",
        "from statsmodels.tsa.stattools import adfuller\n",
        "from statsmodels.tsa.seasonal import seasonal_decompose"
      ]
    },
    {
      "cell_type": "code",
      "execution_count": null,
      "metadata": {},
      "outputs": [],
      "source": [
        "seasonal_decompose(df_targets, period=36).plot()\n",
        "plt.show()"
      ]
    },
    {
      "cell_type": "code",
      "execution_count": null,
      "metadata": {},
      "outputs": [],
      "source": [
        "plt.figure(figsize=(10, 6))\n",
        "# plt.plot(df_targets[-200:])\n",
        "plt.plot(df_targets)\n",
        "plt.title('Realized volatility')\n",
        "plt.ylabel('RV')\n",
        "plt.xlabel('Date')\n",
        "plt.show()"
      ]
    },
    {
      "cell_type": "code",
      "execution_count": null,
      "metadata": {},
      "outputs": [],
      "source": [
        "sm.graphics.tsa.plot_acf(df_targets, lags=36)\n",
        "plt.xlabel('Number of Lags')\n",
        "plt.show()"
      ]
    },
    {
      "cell_type": "code",
      "execution_count": null,
      "metadata": {},
      "outputs": [],
      "source": [
        "sm.graphics.tsa.plot_pacf(df_targets, lags=36)\n",
        "plt.xlabel('Number of Lags')\n",
        "plt.show()"
      ]
    },
    {
      "cell_type": "code",
      "execution_count": null,
      "metadata": {},
      "outputs": [],
      "source": [
        "stat_test = adfuller(df_targets)[0:2]\n",
        "print(\"The test statistic and p-value of ADF test are {}\".format(stat_test))"
      ]
    },
    {
      "cell_type": "code",
      "execution_count": null,
      "metadata": {},
      "outputs": [],
      "source": [
        "diff_df_targets = df_targets.diff()\n",
        "diff_df_targets"
      ]
    },
    {
      "cell_type": "code",
      "execution_count": null,
      "metadata": {},
      "outputs": [],
      "source": [
        "plt.figure(figsize=(10, 6))\n",
        "plt.plot(diff_df_targets)\n",
        "plt.title('Differenced RV')\n",
        "plt.ylabel('RV')\n",
        "plt.xlabel('Date')\n",
        "plt.show()"
      ]
    },
    {
      "cell_type": "code",
      "execution_count": null,
      "metadata": {},
      "outputs": [],
      "source": [
        "sm.graphics.tsa.plot_acf(diff_df_targets.dropna(),lags=36)\n",
        "plt.xlabel('Number of Lags')\n",
        "plt.show()\n",
        "stat_test2 = adfuller(diff_df_targets.dropna())[0:2]\n",
        "# print('stat_test2 ',stat_test2)\n",
        "print(\"The test statistic and p-value of ADF test after differencing are \", format(stat_test2))"
      ]
    },
    {
      "cell_type": "code",
      "execution_count": null,
      "metadata": {},
      "outputs": [],
      "source": [
        "# pip install git+https://github.com/RJT1990/pyflux\n"
      ]
    },
    {
      "cell_type": "code",
      "execution_count": null,
      "metadata": {},
      "outputs": [],
      "source": [
        "import pandas as pd\n",
        "df = pd.read_csv(\"https://www.alphavantage.co/query?function=TIME_SERIES_INTRADAY&symbol=IBM&interval=1min&outputsize=full&apikey=Y36N854DH9B8SL3O&datatype=csv&month=2023-01\")\n",
        "df"
      ]
    },
    {
      "cell_type": "code",
      "execution_count": null,
      "metadata": {},
      "outputs": [],
      "source": [
        "year_start = 2000\n",
        "months = [str(x).zfill(2) for x in range(1,12)]\n",
        "from datetime import date\n",
        "today = date.today()\n",
        "today_date = datetime.date(today.year, today.month,1)\n",
        "print('today_date ', today_date)\n",
        "print(\"Today's date:\", today)\n",
        "\n",
        "import datetime\n",
        "\n",
        "x = datetime.date(2020, 5,1)\n",
        "\n",
        "print(x)"
      ]
    },
    {
      "cell_type": "code",
      "execution_count": null,
      "metadata": {},
      "outputs": [],
      "source": [
        "import datetime\n",
        "from dateutil.relativedelta import relativedelta\n",
        "    \n",
        "def get_year_month(date_obj):\n",
        "    return str(date_obj.year) + \"-\" + str(start_date.month).zfill(2) \n",
        "start_date = datetime.date(2000,1,1)\n",
        "\n",
        "print('year month ', get_year_month(start_date))\n",
        "today = datetime.date.today()\n",
        "\n",
        "while start_date <= today:\n",
        "    start_date_year_month = get_year_month(start_date)\n",
        "    print('start_date_year_month ', start_date_year_month)\n",
        "    start_date = start_date + relativedelta(months=1)\n",
        "\n",
        "# print('date_after_month ', date_after_month)"
      ]
    },
    {
      "cell_type": "code",
      "execution_count": null,
      "metadata": {},
      "outputs": [],
      "source": []
    },
    {
      "cell_type": "code",
      "execution_count": null,
      "metadata": {},
      "outputs": [],
      "source": []
    },
    {
      "cell_type": "code",
      "execution_count": null,
      "metadata": {},
      "outputs": [],
      "source": [
        "# import 1 min intra day data"
      ]
    }
  ],
  "metadata": {
    "colab": {
      "authorship_tag": "ABX9TyMIp6ZEDwPngpTzYFeFzZOr",
      "include_colab_link": true,
      "provenance": []
    },
    "kernelspec": {
      "display_name": "Python 3",
      "name": "python3"
    },
    "language_info": {
      "codemirror_mode": {
        "name": "ipython",
        "version": 3
      },
      "file_extension": ".py",
      "mimetype": "text/x-python",
      "name": "python",
      "nbconvert_exporter": "python",
      "pygments_lexer": "ipython3",
      "version": "3.10.8"
    }
  },
  "nbformat": 4,
  "nbformat_minor": 0
}
